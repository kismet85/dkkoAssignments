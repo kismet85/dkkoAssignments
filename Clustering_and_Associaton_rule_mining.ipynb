{
 "cells": [
  {
   "metadata": {},
   "cell_type": "markdown",
   "source": [
    "## 1. Business understanding\n",
    "- Our goal is:\n",
    "    1. to find optimal locations for drone hub stations\n",
    "    2. To find interesting  relationships between variables / products.\n",
    "\n",
    "### Expectations\n",
    "- We expect to find optimal locations for the hub stations from the data in a way that it can be represented easily.\n",
    "- The same goes for the second task. We expect to find relationships between the variables which the company can utilize in their marketing / sales."
   ],
   "id": "b29189419bdfd5f1"
  },
  {
   "metadata": {},
   "cell_type": "markdown",
   "source": [
    "## 2. Data understainding\n",
    "### Dataset: drone_cust_locations\n",
    "- There are three variables: CustomerId, x and y. CustomerId is self-explanatory, x and y are locations when plotted into a 2D plane.\n",
    "\n",
    "- The data has no null values and has correct format for the next steps.\n",
    "\n",
    "### Dataset: drone_prod_groups\n",
    "- ID = transactionID\n",
    "- Prod1, ..., Prod20 - Binary variables indicating whether at least one product from a particular group was purchased in the transaction. A value of 1 indicates that at least one product from the group was purchased, while a value of 0 indicates that no products from the group were purchased."
   ],
   "id": "f8229e3cbd1197c3"
  },
  {
   "metadata": {
    "ExecuteTime": {
     "end_time": "2025-02-11T12:58:47.450828Z",
     "start_time": "2025-02-11T12:58:47.438131Z"
    }
   },
   "cell_type": "code",
   "source": [
    "import pandas as pd\n",
    "import numpy as np\n",
    "import matplotlib.pyplot as plt\n",
    "import seaborn as sns\n",
    "\n",
    "df = pd.read_csv(\"drone_cust_locations.csv\", sep=';')\n",
    "df.head()"
   ],
   "id": "26826c767eae7b2b",
   "outputs": [
    {
     "data": {
      "text/plain": [
       "   clientid           x           y\n",
       "0         1  622.771572  164.857623\n",
       "1         2  416.357298  630.193634\n",
       "2         3  292.735020  567.333231\n",
       "3         4  737.211288  166.225676\n",
       "4         5  540.475375  682.912298"
      ],
      "text/html": [
       "<div>\n",
       "<style scoped>\n",
       "    .dataframe tbody tr th:only-of-type {\n",
       "        vertical-align: middle;\n",
       "    }\n",
       "\n",
       "    .dataframe tbody tr th {\n",
       "        vertical-align: top;\n",
       "    }\n",
       "\n",
       "    .dataframe thead th {\n",
       "        text-align: right;\n",
       "    }\n",
       "</style>\n",
       "<table border=\"1\" class=\"dataframe\">\n",
       "  <thead>\n",
       "    <tr style=\"text-align: right;\">\n",
       "      <th></th>\n",
       "      <th>clientid</th>\n",
       "      <th>x</th>\n",
       "      <th>y</th>\n",
       "    </tr>\n",
       "  </thead>\n",
       "  <tbody>\n",
       "    <tr>\n",
       "      <th>0</th>\n",
       "      <td>1</td>\n",
       "      <td>622.771572</td>\n",
       "      <td>164.857623</td>\n",
       "    </tr>\n",
       "    <tr>\n",
       "      <th>1</th>\n",
       "      <td>2</td>\n",
       "      <td>416.357298</td>\n",
       "      <td>630.193634</td>\n",
       "    </tr>\n",
       "    <tr>\n",
       "      <th>2</th>\n",
       "      <td>3</td>\n",
       "      <td>292.735020</td>\n",
       "      <td>567.333231</td>\n",
       "    </tr>\n",
       "    <tr>\n",
       "      <th>3</th>\n",
       "      <td>4</td>\n",
       "      <td>737.211288</td>\n",
       "      <td>166.225676</td>\n",
       "    </tr>\n",
       "    <tr>\n",
       "      <th>4</th>\n",
       "      <td>5</td>\n",
       "      <td>540.475375</td>\n",
       "      <td>682.912298</td>\n",
       "    </tr>\n",
       "  </tbody>\n",
       "</table>\n",
       "</div>"
      ]
     },
     "execution_count": 6,
     "metadata": {},
     "output_type": "execute_result"
    }
   ],
   "execution_count": 6
  },
  {
   "metadata": {
    "ExecuteTime": {
     "end_time": "2025-02-11T12:58:47.515725Z",
     "start_time": "2025-02-11T12:58:47.507119Z"
    }
   },
   "cell_type": "code",
   "source": "df.describe()",
   "id": "56a392afab4c61ed",
   "outputs": [
    {
     "data": {
      "text/plain": [
       "          clientid            x            y\n",
       "count  5956.000000  5956.000000  5956.000000\n",
       "mean   2978.500000   508.823177   427.554772\n",
       "std    1719.493433   271.061462   289.044640\n",
       "min       1.000000     0.017692     0.043285\n",
       "25%    1489.750000   282.582920   170.079921\n",
       "50%    2978.500000   518.100892   397.786441\n",
       "75%    4467.250000   727.156497   669.982518\n",
       "max    5956.000000   999.533215   999.731720"
      ],
      "text/html": [
       "<div>\n",
       "<style scoped>\n",
       "    .dataframe tbody tr th:only-of-type {\n",
       "        vertical-align: middle;\n",
       "    }\n",
       "\n",
       "    .dataframe tbody tr th {\n",
       "        vertical-align: top;\n",
       "    }\n",
       "\n",
       "    .dataframe thead th {\n",
       "        text-align: right;\n",
       "    }\n",
       "</style>\n",
       "<table border=\"1\" class=\"dataframe\">\n",
       "  <thead>\n",
       "    <tr style=\"text-align: right;\">\n",
       "      <th></th>\n",
       "      <th>clientid</th>\n",
       "      <th>x</th>\n",
       "      <th>y</th>\n",
       "    </tr>\n",
       "  </thead>\n",
       "  <tbody>\n",
       "    <tr>\n",
       "      <th>count</th>\n",
       "      <td>5956.000000</td>\n",
       "      <td>5956.000000</td>\n",
       "      <td>5956.000000</td>\n",
       "    </tr>\n",
       "    <tr>\n",
       "      <th>mean</th>\n",
       "      <td>2978.500000</td>\n",
       "      <td>508.823177</td>\n",
       "      <td>427.554772</td>\n",
       "    </tr>\n",
       "    <tr>\n",
       "      <th>std</th>\n",
       "      <td>1719.493433</td>\n",
       "      <td>271.061462</td>\n",
       "      <td>289.044640</td>\n",
       "    </tr>\n",
       "    <tr>\n",
       "      <th>min</th>\n",
       "      <td>1.000000</td>\n",
       "      <td>0.017692</td>\n",
       "      <td>0.043285</td>\n",
       "    </tr>\n",
       "    <tr>\n",
       "      <th>25%</th>\n",
       "      <td>1489.750000</td>\n",
       "      <td>282.582920</td>\n",
       "      <td>170.079921</td>\n",
       "    </tr>\n",
       "    <tr>\n",
       "      <th>50%</th>\n",
       "      <td>2978.500000</td>\n",
       "      <td>518.100892</td>\n",
       "      <td>397.786441</td>\n",
       "    </tr>\n",
       "    <tr>\n",
       "      <th>75%</th>\n",
       "      <td>4467.250000</td>\n",
       "      <td>727.156497</td>\n",
       "      <td>669.982518</td>\n",
       "    </tr>\n",
       "    <tr>\n",
       "      <th>max</th>\n",
       "      <td>5956.000000</td>\n",
       "      <td>999.533215</td>\n",
       "      <td>999.731720</td>\n",
       "    </tr>\n",
       "  </tbody>\n",
       "</table>\n",
       "</div>"
      ]
     },
     "execution_count": 7,
     "metadata": {},
     "output_type": "execute_result"
    }
   ],
   "execution_count": 7
  },
  {
   "metadata": {
    "ExecuteTime": {
     "end_time": "2025-02-11T12:59:28.360721Z",
     "start_time": "2025-02-11T12:59:28.348444Z"
    }
   },
   "cell_type": "code",
   "source": "df.info()",
   "id": "5d6ed83b783aaf1a",
   "outputs": [
    {
     "name": "stdout",
     "output_type": "stream",
     "text": [
      "<class 'pandas.core.frame.DataFrame'>\n",
      "RangeIndex: 5956 entries, 0 to 5955\n",
      "Data columns (total 3 columns):\n",
      " #   Column    Non-Null Count  Dtype  \n",
      "---  ------    --------------  -----  \n",
      " 0   clientid  5956 non-null   int64  \n",
      " 1   x         5956 non-null   float64\n",
      " 2   y         5956 non-null   float64\n",
      "dtypes: float64(2), int64(1)\n",
      "memory usage: 139.7 KB\n"
     ]
    }
   ],
   "execution_count": 9
  },
  {
   "metadata": {
    "ExecuteTime": {
     "end_time": "2025-02-11T13:00:00.057465Z",
     "start_time": "2025-02-11T13:00:00.052658Z"
    }
   },
   "cell_type": "code",
   "source": "print(df.isnull().sum())",
   "id": "231f4c1a2ad91dd4",
   "outputs": [
    {
     "name": "stdout",
     "output_type": "stream",
     "text": [
      "clientid    0\n",
      "x           0\n",
      "y           0\n",
      "dtype: int64\n"
     ]
    }
   ],
   "execution_count": 10
  }
 ],
 "metadata": {
  "kernelspec": {
   "display_name": "Python 3",
   "language": "python",
   "name": "python3"
  },
  "language_info": {
   "codemirror_mode": {
    "name": "ipython",
    "version": 2
   },
   "file_extension": ".py",
   "mimetype": "text/x-python",
   "name": "python",
   "nbconvert_exporter": "python",
   "pygments_lexer": "ipython2",
   "version": "2.7.6"
  }
 },
 "nbformat": 4,
 "nbformat_minor": 5
}
