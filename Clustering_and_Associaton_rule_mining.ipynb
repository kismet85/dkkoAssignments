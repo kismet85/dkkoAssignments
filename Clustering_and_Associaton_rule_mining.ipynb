{
 "cells": [
  {
   "metadata": {},
   "cell_type": "markdown",
   "source": [
    "## 1. Business understanding\n",
    "- Our goal is:\n",
    "    1. to find optimal locations for drone hub stations\n",
    "    2. To find interesting  relationships between variables / products.\n",
    "\n",
    "### Expectations\n",
    "- We expect to find optimal locations for the hub stations from the data in a way that it can be represented easily.\n",
    "- The same goes for the second task. We expect to find relationships between the variables which the company can utilize in their marketing / sales."
   ],
   "id": "6a7176685c6a9234"
  },
  {
   "metadata": {},
   "cell_type": "markdown",
   "source": [
    "\n",
    "\n",
    "## 2. Data understainding\n",
    "### Dataset: drone_cust_locations\n",
    "- There are three variables: CustomerId, x and y. CustomerId is self-explanatory, x and y are locations when plotted into a 2D plane.\n",
    "\n",
    "- The data has no null values and has correct format for the next steps. => Data has no quality issues.\n",
    "\n",
    "### Dataset: drone_prod_groups\n",
    "- ID = transactionID\n",
    "- Prod1, ..., Prod20 - Binary variables indicating whether at least one product from a particular group was purchased in the transaction. A value of 1 indicates that at least one product from the group was purchased, while a value of 0 indicates that no products from the group were purchased."
   ],
   "id": "27942510aa98cf1f"
  },
  {
   "metadata": {},
   "cell_type": "code",
   "outputs": [],
   "execution_count": null,
   "source": [
    "import pandas as pd\n",
    "import numpy as np\n",
    "import matplotlib.pyplot as plt\n",
    "import seaborn as sns\n",
    "from sklearn.cluster import KMeans\n",
    "from sklearn.metrics import silhouette_score\n",
    "from mlxtend.frequent_patterns import apriori, association_rules\n",
    "\n",
    "df_locations = pd.read_csv(\"drone_cust_locations.csv\", sep=';')\n",
    "df_products = pd.read_csv(\"drone_prod_groups.csv\", sep=';')\n",
    "df_locations.head()\n",
    "df_products.head()"
   ],
   "id": "985062501412bdd4"
  },
  {
   "metadata": {},
   "cell_type": "code",
   "outputs": [],
   "execution_count": null,
   "source": "df_locations.describe()",
   "id": "9b76de7388720bf5"
  },
  {
   "metadata": {},
   "cell_type": "code",
   "outputs": [],
   "execution_count": null,
   "source": [
    "\n",
    "df_locations.info()\n",
    "df_products.info()\n",
    "print(df_locations.describe())\n",
    "print(df_products.describe())"
   ],
   "id": "a4c0828afab674fa"
  },
  {
   "metadata": {},
   "cell_type": "code",
   "outputs": [],
   "execution_count": null,
   "source": [
    "print(df_locations.isnull().sum())\n",
    "print(df_products.isnull().sum())"
   ],
   "id": "c2eb9be35e215e3b"
  },
  {
   "metadata": {},
   "cell_type": "markdown",
   "source": [
    "## 3. Data preparation\n",
    "- The first dataset didn't need any cleaning. the variable values are in correct form.\n",
    "- The second dataset needed some cleaning. We had to drop the ID column and convert the transaction data to boolean format."
   ],
   "id": "c2795abecb53f1f7"
  },
  {
   "metadata": {},
   "cell_type": "code",
   "outputs": [],
   "execution_count": null,
   "source": [
    "\n",
    "# Drop 'ID' column from df_products if it exists\n",
    "if 'ID' in df_products.columns:\n",
    "    df_products = df_products.drop(columns=['ID'])\n",
    "\n",
    "# Convert transaction data to boolean format\n",
    "df_products_bool = df_products.map(lambda x: True if x == 1 else False)"
   ],
   "id": "ba28136b58a84e0c"
  },
  {
   "metadata": {},
   "cell_type": "markdown",
   "source": [
    "## 4. Modeling\n",
    "### We are using the K-means algorithm.\n",
    "- Preparing the data for clustering by giving them to the variable X.\n",
    "- You can find the map below. It shows the three clusters and their center points. Those are the optimal locations for the HUBs."
   ],
   "id": "78b6414b62dfd56a"
  },
  {
   "metadata": {},
   "cell_type": "code",
   "outputs": [],
   "execution_count": null,
   "source": [
    "X = df_locations[['x', 'y']]\n",
    "optimal_k = 3  \n",
    "model = KMeans(n_clusters=optimal_k, random_state=42)\n",
    "model.fit(X)\n",
    "df_locations['cluster'] = model.labels_\n",
    "\n",
    "centroids = model.cluster_centers_\n",
    "plt.figure(figsize=(10, 6))\n",
    "plt.scatter(df_locations['x'], df_locations['y'], c=df_locations['cluster'], cmap='viridis', marker='o', label='Customers')\n",
    "plt.scatter(centroids[:, 0], centroids[:, 1], c='red', marker='o', s=200, label='Centroids')\n",
    "plt.xlabel('X Coordinate')\n",
    "plt.ylabel('Y Coordinate')\n",
    "plt.title('Optimal Drone Hub Locations')\n",
    "plt.legend()\n",
    "plt.show()"
   ],
   "id": "bb6819e004400072"
  },
  {
   "metadata": {},
   "cell_type": "markdown",
   "source": "### Centroids:",
   "id": "7ba8c132279b787a"
  },
  {
   "metadata": {},
   "cell_type": "code",
   "outputs": [],
   "execution_count": null,
   "source": "model.cluster_centers_",
   "id": "81dfd89b2223d14a"
  },
  {
   "metadata": {},
   "cell_type": "code",
   "outputs": [],
   "execution_count": null,
   "source": [
    "\n",
    "\n",
    "new_data = np.array([[600, 709], [100, 500], [630, 200]])\n",
    "\n",
    "new_data_df = pd.DataFrame(new_data, columns=['x', 'y'])\n",
    "\n",
    "# Predict the cluster for new data points\n",
    "predictions = model.predict(new_data_df)\n",
    "\n",
    "# Print the predictions\n",
    "print(\"Cluster predictions for new data points:\", predictions)"
   ],
   "id": "57300cd7f1c59714"
  },
  {
   "metadata": {},
   "cell_type": "markdown",
   "source": "### Predict method correctly assigns the values their cluster",
   "id": "581c960964ff8732"
  },
  {
   "metadata": {},
   "cell_type": "markdown",
   "source": [
    "## Performance\n",
    "### We will evaluate the performance by measuring the inerta (WCSS) as it gives us the optimal amount for K values.\n"
   ],
   "id": "b68c8430ead44788"
  },
  {
   "metadata": {},
   "cell_type": "code",
   "outputs": [],
   "execution_count": null,
   "source": [
    "wcss = []\n",
    "for i in range(1, 11):\n",
    "    model = KMeans(init='random', n_clusters=i, random_state=42).fit(X)\n",
    "    wcss.append(model.inertia_)\n",
    "\n",
    "plt.plot(range(1, 11), wcss, 'o-')\n",
    "plt.xlabel('Number of clusters')\n",
    "plt.ylabel('WCSS')\n",
    "plt.title('Elbow Method for Optimal K')\n",
    "plt.show()"
   ],
   "id": "f4f2e757dfdb4be1"
  },
  {
   "metadata": {},
   "cell_type": "markdown",
   "source": "- Quality of the clustering: Inertia (WCSS). In the above plot, the line forms an \"elbow\". The optimal K - value is usually found near it. In this case it seems to be 4 or 5 as it decreases more slowly.\n",
   "id": "33ac06e028767e0f"
  },
  {
   "metadata": {},
   "cell_type": "markdown",
   "source": "## 5 - Evaluation",
   "id": "a73dd84751e368dd"
  },
  {
   "metadata": {},
   "cell_type": "code",
   "outputs": [],
   "execution_count": null,
   "source": [
    "# best k using silhouette score\n",
    "silhouette_scores = []\n",
    "for i in range(2, 11):  \n",
    "    model = KMeans(init='random', n_clusters=i, random_state=42).fit(X)\n",
    "    labels = model.labels_\n",
    "    silhouette_scores.append(silhouette_score(X, labels))\n",
    "\n",
    "optimal_k = range(2, 11)[silhouette_scores.index(max(silhouette_scores))] \n",
    "\n",
    "print(f\"Optimal Number of Clusters: {optimal_k}\")\n",
    "print(f\"Best Silhouette Score: {max(silhouette_scores):.2f}\")\n",
    "\n",
    "\n",
    "\n",
    "# Association Rule \n",
    "frequent_itemsets = apriori(df_products_bool, min_support=0.05, use_colnames=True)\n",
    "if not frequent_itemsets.empty:\n",
    "    rules = association_rules(frequent_itemsets, metric=\"lift\", min_threshold=1.0)\n",
    "    print(f\"Number of Strong Rules Found: {len(rules)}\")\n",
    "else:\n",
    "    print(\"No frequent itemsets found. Try lowering min_support further.\")\n"
   ],
   "id": "240528e5bcedb862"
  },
  {
   "metadata": {},
   "cell_type": "markdown",
   "source": [
    "# Silhouette score\n",
    "- score of 0.42 suggests that the clusters are reasonably well-defined, but there is some overlap or ambiguity between clusters. There is potential for improvements."
   ],
   "id": "7e02f517486c3b56"
  },
  {
   "metadata": {},
   "cell_type": "markdown",
   "source": [
    "## 6 - Deployment\n",
    "Deployment Plan:\n",
    "- Clustering results can be integrated into a customer segmentation strategy for targeted marketing.\n",
    "- Association rules can help recommend frequently bought products together.\n",
    "- The final models can be deployed in a dashboard where users can analyze and visualize insights.\n"
   ],
   "id": "d3010b86ebb97d75"
  }
 ],
 "metadata": {
  "kernelspec": {
   "display_name": "Python 3",
   "language": "python",
   "name": "python3"
  },
  "language_info": {
   "codemirror_mode": {
    "name": "ipython",
    "version": 2
   },
   "file_extension": ".py",
   "mimetype": "text/x-python",
   "name": "python",
   "nbconvert_exporter": "python",
   "pygments_lexer": "ipython2",
   "version": "2.7.6"
  }
 },
 "nbformat": 4,
 "nbformat_minor": 5
}
