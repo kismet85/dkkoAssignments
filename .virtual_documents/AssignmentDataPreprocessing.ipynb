import pandas as pd
import numpy as np
import matplotlib.pyplot as plt
import seaborn as sns



# Load the dataset
df = pd.read_csv('chronic_kidney_disease.csv', sep=',', na_values=['', ' '])

# Rename columns for clarity
df.columns = [
    'age', 'blood pressure', 'specific gravity', 'albumin', 'sugar', 'rbc', 'pc', 'pcc', 'ba',
    'blood glucose random', 'blood urea', 'serum creatinine', 'sodium', 'potassium', 'hemoglobin',
    'packed cell volume', 'white blood cell count', 'red blood cell count', 'htn', 'dm', 'cad',
    'appet', 'pe', 'ane', 'class'
]

# Select the required columns
df = df[['age', 'blood pressure', 'specific gravity', 'albumin', 'sugar', 'blood glucose random',
         'blood urea', 'sodium', 'potassium', 'hemoglobin', 'packed cell volume',
         'white blood cell count', 'red blood cell count', 'class']]

# Convert hemoglobin from g/dl to g/l
df['hemoglobin'] = df['hemoglobin'] * 10

df.loc[:]


# Recode the values of the class column
df['class'] = df['class'].replace({'ckd': 'a', 'notckd': 'c'})



